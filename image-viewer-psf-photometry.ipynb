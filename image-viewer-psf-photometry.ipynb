{
 "cells": [
  {
   "cell_type": "markdown",
   "metadata": {},
   "source": [
    "# Example / concept notebook for image viewer PSF photometry use case\n",
    "\n",
    "The use case itself is detailed [here](image-viewer-psf-photometry.md).  This notebook gives an idea of how this use case would work.  Some/all of the code may not work, but the goal is for the notebook (or a very similar notebook) to work once the development work has been completed.\n",
    "\n",
    "\n",
    "* Note: throughout this example, the assumption is that Roman data-ccess-related functionality all lives in `astroquery.mast` this does not *need* to be the case - some of the functionality could live in some other helper package.  But for the sake of example we will assume all-in-astroquery."
   ]
  },
  {
   "cell_type": "markdown",
   "metadata": {},
   "source": [
    "This example starts from the assumption that the user already has a known field.  While the science case outlined above is based on doing PSF photometry for a *whole cluster*, in this notebook, we will instead show the workflow for a *single target*.  In practice it's very similar, just with a lot more repetition in the cluster case that isn't necessary to understand the interactive elements."
   ]
  },
  {
   "cell_type": "code",
   "execution_count": null,
   "metadata": {},
   "outputs": [],
   "source": [
    "from astroquery.mast import Observations\n",
    "\n",
    "from astropy import units as υ\n",
    "from astropy.coordinates import SkyCoord\n",
    "from astropy.table import Table\n",
    "\n",
    "from photutils import psf\n",
    "\n",
    "import roman_datamodels\n",
    "import webbpsf  # which currently contains the Roman PSF models, although this may change\n",
    "import jdaviz"
   ]
  },
  {
   "cell_type": "code",
   "execution_count": null,
   "metadata": {},
   "outputs": [],
   "source": [
    "target_star_coordinates = SkyCoord(XXX*u.deg, YYY*u.deg, frame='icrs')  # coordinates known from some external source"
   ]
  },
  {
   "cell_type": "code",
   "execution_count": null,
   "metadata": {},
   "outputs": [],
   "source": [
    "obses = Observations.query_region(target_star_coordinates, radius=5*υ.arcsec, obs_collection='roman')\n",
    "products = Observations.get_product_list(obses)\n",
    "\n",
    "... filter on a single exposure that is on the target star and create a `msk` that selects just that one product...\n",
    "\n",
    "prod = products[msk][:1]\n",
    "dled = Observations.download_products(prod)"
   ]
  },
  {
   "cell_type": "markdown",
   "metadata": {},
   "source": [
    "Note that the above assumes that the data model for Roman allows for one to find a roman exposure by doing a `query_region` and even if the observation center is not that close to the target, it will still work.  If that is *not* intended, some other search will be needed that is more like `query_all_regions_that_cover_this_point` or the like.\n",
    "\n",
    "Also note that it is assumed that `download_products` doesn't actually download anything if run in the RSP, just gives back the relevant path inside AWS."
   ]
  },
  {
   "cell_type": "code",
   "execution_count": null,
   "metadata": {},
   "outputs": [],
   "source": [
    "image = roman_datamodels.open(dled['Local Path'])\n",
    "\n",
    "# the assumption here is that `roman_psf_model` magically knows how to interpret the metadata in `image`. \n",
    "#  `webbpsf` does *not* do this as far as I know, so it might instead need to be an example notebook that shows how to do this more verbosely\n",
    "psf_model = webbpsf.roman_psf_model(image)\n",
    "\n",
    "\n",
    "phot = psf.PSFPhotometry(psf_model)\n",
    "\n",
    "target_table = Table()\n",
    "target_table['x_init'] = image.meta.wcs.world_to_pixel(target_star_coordinates)[0]\n",
    "target_table['y_init'] = image.meta.wcs.world_to_pixel(target_star_coordinates)[0]\n",
    "\n",
    "psf_results = phot(image.data, target_table, init_params=target_table)\n",
    "\n",
    "residual_image = phot.get_residual_image()"
   ]
  },
  {
   "cell_type": "markdown",
   "metadata": {},
   "source": [
    "Now the user wants to examine the PSF fitting results, by blinking back and forth between the original and the subtracted image:"
   ]
  },
  {
   "cell_type": "code",
   "execution_count": null,
   "metadata": {},
   "outputs": [],
   "source": [
    "imviz = jdaviz.Imviz()\n",
    "\n",
    "imviz.load_data(image, data_label='original_image')\n",
    "imviz.load_data(residual_image, data_label='residual')\n",
    "\n",
    "imviz.show()"
   ]
  },
  {
   "cell_type": "markdown",
   "metadata": {},
   "source": [
    "Now by clicking on the \"blink\" option in imviz and hitting the \"b\" key, the image will blink between the two, so the user can examine how good the fit is.  If need be, the user can then do something like:"
   ]
  },
  {
   "cell_type": "code",
   "execution_count": null,
   "metadata": {},
   "outputs": [],
   "source": [
    "some_second_target_table = psf_results.copy()\n",
    "some_second_target_table ... add more sources to measure that were revealed in the residual image ...\n",
    "\n",
    "phot(residual_image, some_second_target_table, init_params=target_table)\n",
    "\n",
    "residual_image2 = phot.get_residual_image()\n",
    "\n",
    "imviz.load_data(residual_image2, data_label='residual')"
   ]
  },
  {
   "cell_type": "markdown",
   "metadata": {},
   "source": [
    "And now the user can blink between all three.  Rinse and repeat until satisfied!"
   ]
  }
 ],
 "metadata": {
  "kernelspec": {
   "display_name": "Python 3",
   "language": "python",
   "name": "python3"
  },
  "language_info": {
   "codemirror_mode": {
    "name": "ipython",
    "version": 3
   },
   "file_extension": ".py",
   "mimetype": "text/x-python",
   "name": "python",
   "nbconvert_exporter": "python",
   "pygments_lexer": "ipython3",
   "version": "3.13.0rc2"
  }
 },
 "nbformat": 4,
 "nbformat_minor": 2
}

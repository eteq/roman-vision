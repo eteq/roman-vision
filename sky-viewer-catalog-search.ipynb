{
 "cells": [
  {
   "cell_type": "markdown",
   "metadata": {
    "vscode": {
     "languageId": "plaintext"
    }
   },
   "source": [
    "# Example/ concept notebook for catalog search sky viewer example\n",
    "\n",
    "The use case itself is detailed [here](sky-viewer-catalog-search.md).  This notebook gives an idea of how this use case would work.  Some/all of the code may not work, but the goal is for the notebook (or a very similar notebook) to work once the development work has been completed.\n",
    "\n",
    "* Note: throughout this example, the assumption is that Roman catalog-related functionality all lives in `astroquery.mast.Catalogs` this does not *need* to be the case - some of the functionality could live in some other helper package.  But for the sake of example we will assume all-in-astroquery."
   ]
  },
  {
   "cell_type": "code",
   "execution_count": null,
   "metadata": {},
   "outputs": [],
   "source": [
    "# this cell would need to have the annotation that it is a parameter cell for papermill - see more info below\n",
    "distancempc = 1\n",
    "targetradeg = 123.4\n",
    "targetdecdeg = 5.6"
   ]
  },
  {
   "cell_type": "code",
   "execution_count": null,
   "metadata": {},
   "outputs": [],
   "source": [
    "from astroquery.mast import Catalogs\n",
    "from astroquery.mast import Viewers\n",
    "from astropy import units as υ\n",
    "from astropy.coordinates import Distance\n",
    "\n",
    "from matplotlib import pyplot as plt"
   ]
  },
  {
   "cell_type": "code",
   "execution_count": null,
   "metadata": {},
   "outputs": [],
   "source": [
    "Catalog.get_schema('roman-sources')"
   ]
  },
  {
   "cell_type": "markdown",
   "metadata": {},
   "source": [
    "\n",
    "The above should either pop-up a Jupyterlab window, or a link to a web page with the relevant catalog's schema.  The user then sees that there are columns named after ther relevant filters - e.g. 'F062_mag' and 'F106_mag'.  That shows the user what magnitudes they need to define their color-magnitude box.  "
   ]
  },
  {
   "cell_type": "code",
   "execution_count": null,
   "metadata": {},
   "outputs": [],
   "source": [
    "# the user would specify this based on outside knowledge of where RGB stars are in these filters\n",
    "filter1 = 'F062'\n",
    "filter2 = 'F106'\n",
    "rgb_min_absmag = XXX \n",
    "rgb_max_absmag = XXX \n",
    "rgb_min_color = XXX \n",
    "rgb_min_color = XXX \n",
    "\n",
    "targetfield = SkyCoord(targetradeg*u.deg, targetdecdeg*u.deg, frame='icrs')\n",
    "fieldsize = 1*u.deg\n",
    "\n",
    "distance_moduli = (distancempc*u.Mpc).distmod\n",
    "\n",
    "min_mag = rgb_min_absmag + distance_moduli\n",
    "max_mag = rgb_max_absmag + distance_moduli"
   ]
  },
  {
   "cell_type": "markdown",
   "metadata": {},
   "source": [
    "## 1. The \"query_criteria\" way\n",
    "\n",
    "This is the way to get the catalogs using something comparable to the `query_criteria` function currently in astroquery.mast.Catalog.  Note that it requires that there already be a field in the database for the color, despite that being something directly derived from the two magnitudes"
   ]
  },
  {
   "cell_type": "code",
   "execution_count": null,
   "metadata": {},
   "outputs": [],
   "source": [
    "catalog = Catalog.query_criteria(targetfield, radius=fieldsize, \n",
    "                    F106_mag=('gte', min_mag),\n",
    "                    F106_mag=('lte', max_mag), \n",
    "                    F062F106_color=('gte', rgb_min_color),\n",
    "                    F062F106_color=('lte', rgb_max_color),\n",
    "                    catalog='roman-sources')"
   ]
  },
  {
   "cell_type": "markdown",
   "metadata": {},
   "source": [
    "## 2. The ADQL way\n",
    "\n",
    "The user could also use an ADQL query if they understand ADQL sufficiently, run that some  other way, and load those resulting tables explicitly here.  (Code not shown, but it should yield the same list of catalogs as the other cases)"
   ]
  },
  {
   "cell_type": "markdown",
   "metadata": {},
   "source": [
    "## 3. The \"dynamic\" way (stretch goal)\n",
    "\n",
    "This is an alternative approach that uses the stretch goal formulation described in [this use case](database-access-dynamic.md).  It would transparently map the masking operations to the databse instead of requirng the user to do simplistic queries against"
   ]
  },
  {
   "cell_type": "code",
   "execution_count": null,
   "metadata": {},
   "outputs": [],
   "source": [
    "deferred = Catalog.query_criteria_deferred(targetfield, radius=fieldsize, catalog='roman-sources')\n",
    "mag1 = deferred['F062_mag']\n",
    "mag2 = deferred['F106_mag']\n",
    "color = mag2 - mag1\n",
    "query = (min_mags < mag2) & (mag2 < max_mags) & (rgb_min_color < color) & (color < rgb_max_color)\n",
    "\n",
    "catalog = query.execute()"
   ]
  },
  {
   "cell_type": "markdown",
   "metadata": {},
   "source": [
    "Regardless of 1,2,3 above, the user now has a set of catalog of all the RGB candiate objects. The next step is to produce some general plots color-magnitude diagrams for these.  In a real practical case there'd probably need to be some code to clean up the plots and make sure outliers are removed, but we won't worry about that right now because it's a detail that depends on the data at some level."
   ]
  },
  {
   "cell_type": "code",
   "execution_count": null,
   "metadata": {},
   "outputs": [],
   "source": [
    "plt.figure()\n",
    "plt.scatter(catalog['F062_mag'], catalog['F106_mag'] - catalog['F062_mag'])\n",
    "\n",
    "plt.plot(something_informational_like_an_isocrone)\n",
    "\n",
    "plt.figure()\n",
    "plt.scatter(catalog['coord'].ra.deg, catalog['coord'].dec.deg)  # this assumes the catalog automatically comes with a SkyCoord mixin column"
   ]
  },
  {
   "cell_type": "code",
   "execution_count": null,
   "metadata": {},
   "outputs": [],
   "source": [
    "skyviewer = Viewers.show_sky_viewer(targetfield)\n",
    "skyviewer.show_in_viewer(catalog)  # this would automatically recognize that 'coord' is the SkyCoord column and use that for plotting"
   ]
  },
  {
   "cell_type": "markdown",
   "metadata": {},
   "source": [
    "# Steps to run in a separate notebook\n",
    "\n",
    "In this use case, the user wants to produce a bunch of copies of the above notebook for their collaborators to view.  A tool called `papermill` already exists to do this, in which case the user would need to use a different notebook to actually *run* papermill, with the above as a template.  The content below is for the *runner* notebook"
   ]
  },
  {
   "cell_type": "code",
   "execution_count": null,
   "metadata": {},
   "outputs": [],
   "source": [
    "from papermill.execute import execute_notebooks"
   ]
  },
  {
   "cell_type": "code",
   "execution_count": null,
   "metadata": {},
   "outputs": [],
   "source": [
    "distances = [1, 2,3 ]*u.Mpc\n",
    "coordinates = ... a sky coord object with all the various targets that they get from somewhere else..."
   ]
  },
  {
   "cell_type": "code",
   "execution_count": null,
   "metadata": {},
   "outputs": [],
   "source": [
    "for i, targetcoo in enumerate(coordinates):\n",
    "    for d in distancees:\n",
    "        dmpc = d.to(u.Mpc).value\n",
    "        radeg = targetcoo.ra.deg\n",
    "        decdeg = targetcoo.dec.deg\n",
    "\n",
    "        execute_notebooks('sky-viewer-catalog-search.ipynb', f'/path/to/relevant/roman/group/target{i}_distance{dmpc}.ipynb',\n",
    "                          parameters={'distancempc': dmpc, 'targetradeg': radeg, 'targetdecdeg': decdeg},\n",
    "                          prepare_only=True)"
   ]
  },
  {
   "cell_type": "markdown",
   "metadata": {},
   "source": [
    "The result is a bunch of notebooks ready to be excuted by the team, and the team lead distributes them to the team for visual inspection."
   ]
  }
 ],
 "metadata": {
  "language_info": {
   "name": "python"
  }
 },
 "nbformat": 4,
 "nbformat_minor": 2
}
